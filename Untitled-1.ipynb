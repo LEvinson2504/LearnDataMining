{
 "cells": [
  {
   "cell_type": "code",
   "execution_count": 49,
   "metadata": {},
   "outputs": [],
   "source": [
    "import os\n",
    "import pandas as pd"
   ]
  },
  {
   "cell_type": "code",
   "execution_count": 50,
   "metadata": {},
   "outputs": [
    {
     "data": {
      "text/plain": [
       "['.vscode', 'Untitled-1.ipynb', 'test.csv', 'train.csv']"
      ]
     },
     "execution_count": 50,
     "metadata": {},
     "output_type": "execute_result"
    }
   ],
   "source": [
    "# set working directory\n",
    "os.chdir(\"/home/levinson/Documents/VJTI/DM/Data Science/data_cleaning/archive\")\n",
    "os.listdir()"
   ]
  },
  {
   "cell_type": "code",
   "execution_count": null,
   "metadata": {},
   "outputs": [],
   "source": []
  },
  {
   "cell_type": "code",
   "execution_count": 51,
   "metadata": {},
   "outputs": [
    {
     "data": {
      "text/html": [
       "<div>\n",
       "<style scoped>\n",
       "    .dataframe tbody tr th:only-of-type {\n",
       "        vertical-align: middle;\n",
       "    }\n",
       "\n",
       "    .dataframe tbody tr th {\n",
       "        vertical-align: top;\n",
       "    }\n",
       "\n",
       "    .dataframe thead th {\n",
       "        text-align: right;\n",
       "    }\n",
       "</style>\n",
       "<table border=\"1\" class=\"dataframe\">\n",
       "  <thead>\n",
       "    <tr style=\"text-align: right;\">\n",
       "      <th></th>\n",
       "      <th>id</th>\n",
       "      <th>car_name</th>\n",
       "      <th>yr_mfr</th>\n",
       "      <th>fuel_type</th>\n",
       "      <th>kms_run</th>\n",
       "      <th>sale_price</th>\n",
       "      <th>city</th>\n",
       "      <th>times_viewed</th>\n",
       "      <th>body_type</th>\n",
       "      <th>transmission</th>\n",
       "      <th>...</th>\n",
       "      <th>total_owners</th>\n",
       "      <th>broker_quote</th>\n",
       "      <th>original_price</th>\n",
       "      <th>car_rating</th>\n",
       "      <th>ad_created_on</th>\n",
       "      <th>fitness_certificate</th>\n",
       "      <th>emi_starts_from</th>\n",
       "      <th>booking_down_pymnt</th>\n",
       "      <th>reserved</th>\n",
       "      <th>warranty_avail</th>\n",
       "    </tr>\n",
       "  </thead>\n",
       "  <tbody>\n",
       "    <tr>\n",
       "      <th>0</th>\n",
       "      <td>1</td>\n",
       "      <td>maruti swift dzire</td>\n",
       "      <td>2012</td>\n",
       "      <td>petrol</td>\n",
       "      <td>69029</td>\n",
       "      <td>364299</td>\n",
       "      <td>pune</td>\n",
       "      <td>2068</td>\n",
       "      <td>sedan</td>\n",
       "      <td>manual</td>\n",
       "      <td>...</td>\n",
       "      <td>3</td>\n",
       "      <td>363529</td>\n",
       "      <td>365029.0</td>\n",
       "      <td>great</td>\n",
       "      <td>2021-03-16T05:00:49.555</td>\n",
       "      <td>True</td>\n",
       "      <td>8462</td>\n",
       "      <td>54645</td>\n",
       "      <td>False</td>\n",
       "      <td>False</td>\n",
       "    </tr>\n",
       "    <tr>\n",
       "      <th>1</th>\n",
       "      <td>2</td>\n",
       "      <td>hyundai eon</td>\n",
       "      <td>2013</td>\n",
       "      <td>petrol</td>\n",
       "      <td>45721</td>\n",
       "      <td>216799</td>\n",
       "      <td>gurgaon</td>\n",
       "      <td>903</td>\n",
       "      <td>hatchback</td>\n",
       "      <td>manual</td>\n",
       "      <td>...</td>\n",
       "      <td>1</td>\n",
       "      <td>205738</td>\n",
       "      <td>NaN</td>\n",
       "      <td>great</td>\n",
       "      <td>2021-03-10T12:08:11.905</td>\n",
       "      <td>True</td>\n",
       "      <td>5036</td>\n",
       "      <td>32520</td>\n",
       "      <td>False</td>\n",
       "      <td>False</td>\n",
       "    </tr>\n",
       "    <tr>\n",
       "      <th>2</th>\n",
       "      <td>3</td>\n",
       "      <td>honda amaze</td>\n",
       "      <td>2013</td>\n",
       "      <td>diesel</td>\n",
       "      <td>37395</td>\n",
       "      <td>387399</td>\n",
       "      <td>pune</td>\n",
       "      <td>2809</td>\n",
       "      <td>sedan</td>\n",
       "      <td>manual</td>\n",
       "      <td>...</td>\n",
       "      <td>1</td>\n",
       "      <td>382667</td>\n",
       "      <td>NaN</td>\n",
       "      <td>great</td>\n",
       "      <td>2021-03-15T12:03:30.041</td>\n",
       "      <td>True</td>\n",
       "      <td>8998</td>\n",
       "      <td>58110</td>\n",
       "      <td>True</td>\n",
       "      <td>False</td>\n",
       "    </tr>\n",
       "    <tr>\n",
       "      <th>3</th>\n",
       "      <td>4</td>\n",
       "      <td>hyundai i20</td>\n",
       "      <td>2012</td>\n",
       "      <td>petrol</td>\n",
       "      <td>37652</td>\n",
       "      <td>364699</td>\n",
       "      <td>bengaluru</td>\n",
       "      <td>1054</td>\n",
       "      <td>hatchback</td>\n",
       "      <td>manual</td>\n",
       "      <td>...</td>\n",
       "      <td>3</td>\n",
       "      <td>335740</td>\n",
       "      <td>NaN</td>\n",
       "      <td>great</td>\n",
       "      <td>2021-04-09T11:16:26.157</td>\n",
       "      <td>True</td>\n",
       "      <td>8471</td>\n",
       "      <td>54705</td>\n",
       "      <td>True</td>\n",
       "      <td>False</td>\n",
       "    </tr>\n",
       "    <tr>\n",
       "      <th>4</th>\n",
       "      <td>5</td>\n",
       "      <td>hyundai creta</td>\n",
       "      <td>2017</td>\n",
       "      <td>diesel</td>\n",
       "      <td>53648</td>\n",
       "      <td>1082011</td>\n",
       "      <td>lucknow</td>\n",
       "      <td>2927</td>\n",
       "      <td>suv</td>\n",
       "      <td>automatic</td>\n",
       "      <td>...</td>\n",
       "      <td>1</td>\n",
       "      <td>1119840</td>\n",
       "      <td>1125840.0</td>\n",
       "      <td>great</td>\n",
       "      <td>2021-04-01T07:24:31.712</td>\n",
       "      <td>True</td>\n",
       "      <td>25132</td>\n",
       "      <td>162302</td>\n",
       "      <td>False</td>\n",
       "      <td>False</td>\n",
       "    </tr>\n",
       "  </tbody>\n",
       "</table>\n",
       "<p>5 rows × 30 columns</p>\n",
       "</div>"
      ],
      "text/plain": [
       "   id            car_name  yr_mfr fuel_type  kms_run  sale_price       city  \\\n",
       "0   1  maruti swift dzire    2012    petrol    69029      364299       pune   \n",
       "1   2         hyundai eon    2013    petrol    45721      216799    gurgaon   \n",
       "2   3         honda amaze    2013    diesel    37395      387399       pune   \n",
       "3   4         hyundai i20    2012    petrol    37652      364699  bengaluru   \n",
       "4   5       hyundai creta    2017    diesel    53648     1082011    lucknow   \n",
       "\n",
       "   times_viewed  body_type transmission  ... total_owners  broker_quote  \\\n",
       "0          2068      sedan       manual  ...            3        363529   \n",
       "1           903  hatchback       manual  ...            1        205738   \n",
       "2          2809      sedan       manual  ...            1        382667   \n",
       "3          1054  hatchback       manual  ...            3        335740   \n",
       "4          2927        suv    automatic  ...            1       1119840   \n",
       "\n",
       "  original_price car_rating            ad_created_on fitness_certificate  \\\n",
       "0       365029.0      great  2021-03-16T05:00:49.555                True   \n",
       "1            NaN      great  2021-03-10T12:08:11.905                True   \n",
       "2            NaN      great  2021-03-15T12:03:30.041                True   \n",
       "3            NaN      great  2021-04-09T11:16:26.157                True   \n",
       "4      1125840.0      great  2021-04-01T07:24:31.712                True   \n",
       "\n",
       "  emi_starts_from booking_down_pymnt reserved warranty_avail  \n",
       "0            8462              54645    False          False  \n",
       "1            5036              32520    False          False  \n",
       "2            8998              58110     True          False  \n",
       "3            8471              54705     True          False  \n",
       "4           25132             162302    False          False  \n",
       "\n",
       "[5 rows x 30 columns]"
      ]
     },
     "execution_count": 51,
     "metadata": {},
     "output_type": "execute_result"
    }
   ],
   "source": [
    "df = pd.read_csv(\"test.csv\")\n",
    "df.head()"
   ]
  },
  {
   "cell_type": "code",
   "execution_count": 52,
   "metadata": {},
   "outputs": [
    {
     "data": {
      "text/plain": [
       "car_name                           hyundai i10\n",
       "yr_mfr                                    2010\n",
       "fuel_type                               petrol\n",
       "kms_run                                  59295\n",
       "sale_price                              286399\n",
       "city                                   chennai\n",
       "times_viewed                               506\n",
       "body_type                            hatchback\n",
       "transmission                            manual\n",
       "variant                      sportz 1.2 kappa2\n",
       "assured_buy                               True\n",
       "registered_city                        chennai\n",
       "registered_state                    tamil nadu\n",
       "is_hot                                    True\n",
       "rto                                       tn07\n",
       "source                           inperson_sale\n",
       "make                                   hyundai\n",
       "model                                      i10\n",
       "car_availability                      in_stock\n",
       "total_owners                                 2\n",
       "broker_quote                            255175\n",
       "original_price                        286499.0\n",
       "car_rating                                good\n",
       "ad_created_on          2021-04-07T05:42:09.856\n",
       "fitness_certificate                       True\n",
       "emi_starts_from                           6652\n",
       "booking_down_pymnt                       42960\n",
       "reserved                                 False\n",
       "warranty_avail                           False\n",
       "Name: 7, dtype: object"
      ]
     },
     "execution_count": 52,
     "metadata": {},
     "output_type": "execute_result"
    }
   ],
   "source": [
    "# Set index as something meaningful like the ids\n",
    "\n",
    "df['id'].is_unique\n",
    "df = df.set_index('id')\n",
    "\n",
    "# df.head()\n",
    "\n",
    "# now we can access a row by using df.loc[] \n",
    "\n",
    "df.loc[7]\n"
   ]
  },
  {
   "cell_type": "markdown",
   "metadata": {},
   "source": [
    "# Next thing I want to do is look at duplicate or unwanted columns and drop them which will reduce not only file size but also make it easy to find the data we actually need and correct if necessary further"
   ]
  },
  {
   "cell_type": "code",
   "execution_count": 53,
   "metadata": {},
   "outputs": [],
   "source": [
    "# Identify duplicate or unwanted data\n",
    "\n",
    "\n"
   ]
  },
  {
   "cell_type": "code",
   "execution_count": null,
   "metadata": {},
   "outputs": [],
   "source": [
    "# specify correct datatype to columns for better performance when searching"
   ]
  },
  {
   "cell_type": "code",
   "execution_count": 54,
   "metadata": {},
   "outputs": [
    {
     "name": "stdout",
     "output_type": "stream",
     "text": [
      "body_type\n",
      "transmission\n",
      "registered_city\n",
      "registered_state\n",
      "source\n",
      "car_availability\n",
      "original_price\n",
      "car_rating\n"
     ]
    }
   ],
   "source": [
    "# identify columns with missing data\n",
    "for i in df.columns:\n",
    "    if df[i].isna().sum() > 0:\n",
    "        print(i)"
   ]
  },
  {
   "cell_type": "code",
   "execution_count": 55,
   "metadata": {},
   "outputs": [
    {
     "data": {
      "text/plain": [
       "id\n",
       "1        sedan\n",
       "2    hatchback\n",
       "3        sedan\n",
       "4    hatchback\n",
       "5          suv\n",
       "Name: body_type, dtype: object"
      ]
     },
     "execution_count": 55,
     "metadata": {},
     "output_type": "execute_result"
    }
   ],
   "source": [
    "df['body_type'].head()"
   ]
  }
 ],
 "metadata": {
  "interpreter": {
   "hash": "29edd18b5d43a7be03d3300c6ecadfbe4ce2950eebd66f4f2829ed6b562893e1"
  },
  "kernelspec": {
   "display_name": "Python 3.9.5 64-bit ('data-cleaning': conda)",
   "name": "python3"
  },
  "language_info": {
   "codemirror_mode": {
    "name": "ipython",
    "version": 3
   },
   "file_extension": ".py",
   "mimetype": "text/x-python",
   "name": "python",
   "nbconvert_exporter": "python",
   "pygments_lexer": "ipython3",
   "version": "3.9.5"
  },
  "orig_nbformat": 4
 },
 "nbformat": 4,
 "nbformat_minor": 2
}